{
 "cells": [
  {
   "cell_type": "code",
   "execution_count": 18,
   "metadata": {},
   "outputs": [],
   "source": [
    "\n",
    "\n",
    "import pandas as pd\n",
    "import numpy as np\n",
    "from ast import literal_eval\n",
    "from sklearn.feature_extraction.text import TfidfVectorizer, CountVectorizer\n",
    "from sklearn.metrics.pairwise import linear_kernel, cosine_similarity\n",
    "from nltk.stem.snowball import SnowballStemmer\n",
    "\n",
    "\n",
    "def create_database():\n",
    " \n",
    "    \"\"\"The function extracts the information of movie genres, keywords, directors, actors, and titles, and returns a matrix of cosine similarity.\n",
    "\n",
    "    Args:\n",
    "        NULL\n",
    "\n",
    "    Returns:\n",
    "        matrix(pandas.core.frame.DataFrame): The cosine similarity matrix for recommender system.\n",
    "    \"\"\"\n",
    "\n",
    "    # load data tables\n",
    "    movie = pd.read_csv(\"movies_metadata.csv\", low_memory=False)\n",
    "    credit = pd.read_csv(\"credits.csv\", low_memory=False)\n",
    "    keyword = pd.read_csv(\"keywords.csv\", low_memory=False)\n",
    "\n",
    "    # deal with NAs in movie \n",
    "    movie = movie.drop(movie.index[19730])\n",
    "    movie = movie.drop(movie.index[29502])\n",
    "    movie = movie.drop(movie.index[35585])\n",
    "    pd.to_numeric(movie['id'])\n",
    "\n",
    "    # select a sample of data\n",
    "    movie = movie.head(5000)\n",
    "\n",
    "    # genre columns\n",
    "    movie['genres'] = movie['genres'].fillna('[]').apply(literal_eval).apply(lambda x: [i['name'] for i in x] if isinstance(x, list) else [])\n",
    "\n",
    "    # transform the data type of id column\n",
    "    keyword['id'] = keyword['id'].astype('int')\n",
    "    credit['id'] = credit['id'].astype('int')\n",
    "    movie['id'] = movie['id'].astype('int')\n",
    "\n",
    "    # merge movie, keyword, credit\n",
    "    movie_merge = movie.merge(keyword, on='id')\n",
    "    movie_merge = movie_merge.merge(credit, on='id')\n",
    "\n",
    "    # for the credits table:\n",
    "    # we only take directors from crew\n",
    "    # and pick the top2 actors from cast\n",
    "    movie_merge['cast'] = movie_merge['cast'].apply(literal_eval)\n",
    "    movie_merge['crew'] = movie_merge['crew'].apply(literal_eval)\n",
    "    movie_merge['keywords'] = movie_merge['keywords'].apply(literal_eval)\n",
    "    movie_merge['cast_size'] = movie_merge['cast'].apply(lambda x: len(x))\n",
    "    movie_merge['crew_size'] = movie_merge['crew'].apply(lambda x: len(x))\n",
    "\n",
    "    # extract director from crew\n",
    "    def get_director(input):\n",
    "        \"\"\"read crew table\n",
    "\n",
    "        Args:\n",
    "            param1 (dictionary): crew table\n",
    "\n",
    "        Returns:\n",
    "            the director name \n",
    "        \"\"\"\n",
    "        for item in input:\n",
    "            if (item['job'] == 'Director'):\n",
    "                return item['name']\n",
    "        return np.nan\n",
    "\n",
    "\n",
    "    movie_merge['director'] = movie_merge['crew'].apply(get_director)\n",
    "\n",
    "    # extract actors from cast\n",
    "    movie_merge['cast'] = movie_merge['cast'].apply(lambda x: [i['name'] for i in x] if isinstance(x, list) else [])\n",
    "    movie_merge['cast'] = movie_merge['cast'].apply(lambda x: x[:2] if len(x) >=2 else x)\n",
    "\n",
    "    # deal with keywords\n",
    "    movie_merge['keywords'] = movie_merge['keywords'].apply(lambda x: [i['name'] for i in x] if isinstance(x, list) else [])\n",
    "\n",
    "    # tranform actors into lower case\n",
    "    movie_merge['cast'] = movie_merge['cast'].apply(lambda x: [str.lower(i.replace(\" \", \"\")) for i in x])\n",
    "\n",
    "    # transform directors into lower case\n",
    "    movie_merge['director'] = movie_merge['director'].astype('str').apply(lambda x: str.lower(x.replace(\" \", \"\")))\n",
    "    movie_merge['director'] = movie_merge['director'].apply(lambda x: [x,x, x])\n",
    "\n",
    "    # count the frequency of each keywords\n",
    "    s = movie_merge.apply(lambda x: pd.Series(x['keywords']),axis=1).stack().reset_index(level=1, drop=True)\n",
    "    s.name = 'keyword'\n",
    "    s = s.value_counts()\n",
    "\n",
    "    # As i am doing frequency count, the keyword with frequency as 1 should be dropped.\n",
    "    s = s[s>1]\n",
    "\n",
    "    # we have to make sure singular and plural forms of a word can be recognized as one single word\n",
    "    stemmer = SnowballStemmer('english')\n",
    "\n",
    "\n",
    "    # filter keywords\n",
    "    def filter_keywords(x):\n",
    "        \"\"\"extract keywords\n",
    "\n",
    "        Args:\n",
    "            param1 (String): keywords string\n",
    "\n",
    "        Returns:\n",
    "            a list of keywords\n",
    "        \"\"\"\n",
    "        words = []\n",
    "        for item in x:\n",
    "            if item in s:\n",
    "                words.append(item)\n",
    "        return words\n",
    "\n",
    "\n",
    "\n",
    "    movie_merge['keywords'] = movie_merge['keywords'].apply(filter_keywords)\n",
    "    movie_merge['keywords'] = movie_merge['keywords'].apply(lambda x: [stemmer.stem(i) for i in x])\n",
    "    movie_merge['keywords'] = movie_merge['keywords'].apply(lambda x: [str.lower(i.replace(\" \", \"\")) for i in x])\n",
    "    \n",
    "    movie_merge['criteria'] = movie_merge['keywords'] + movie_merge['cast'] + movie_merge['director'] + movie_merge['genres']\n",
    "    movie_merge['criteria'] = movie_merge['criteria'].apply(lambda x: ' '.join(x))\n",
    "    \n",
    "    return movie_merge\n",
    "\n",
    "\n",
    "\n",
    "\n",
    "\n",
    "\n",
    "\n",
    "\n"
   ]
  },
  {
   "cell_type": "code",
   "execution_count": 19,
   "metadata": {},
   "outputs": [
    {
     "name": "stderr",
     "output_type": "stream",
     "text": [
      "C:\\Users\\Evan\\Anaconda3\\lib\\site-packages\\ipykernel_launcher.py:88: DeprecationWarning: The default dtype for empty Series will be 'object' instead of 'float64' in a future version. Specify a dtype explicitly to silence this warning.\n"
     ]
    }
   ],
   "source": [
    "df = create_database()"
   ]
  },
  {
   "cell_type": "code",
   "execution_count": 22,
   "metadata": {},
   "outputs": [
    {
     "data": {
      "text/plain": [
       "Index(['adult', 'belongs_to_collection', 'budget', 'genres', 'homepage', 'id',\n",
       "       'imdb_id', 'original_language', 'original_title', 'overview',\n",
       "       'popularity', 'poster_path', 'production_companies',\n",
       "       'production_countries', 'release_date', 'revenue', 'runtime',\n",
       "       'spoken_languages', 'status', 'tagline', 'title', 'video',\n",
       "       'vote_average', 'vote_count', 'keywords', 'cast', 'crew', 'cast_size',\n",
       "       'crew_size', 'director', 'criteria'],\n",
       "      dtype='object')"
      ]
     },
     "execution_count": 22,
     "metadata": {},
     "output_type": "execute_result"
    }
   ],
   "source": [
    "df.columns"
   ]
  },
  {
   "cell_type": "code",
   "execution_count": 24,
   "metadata": {},
   "outputs": [],
   "source": [
    "df.to_csv('df.csv', index=False)"
   ]
  },
  {
   "cell_type": "code",
   "execution_count": 9,
   "metadata": {},
   "outputs": [],
   "source": [
    "def discover_movie(movie_merge):\n",
    "    count = CountVectorizer(analyzer='word',ngram_range=(1, 2),min_df=0, stop_words='english')\n",
    "    count_matrix = count.fit_transform(movie_merge['criteria'])\n",
    "    cosine_sim = cosine_similarity(count_matrix, count_matrix)\n",
    "\n",
    "    titles = movie_merge['title']\n",
    "    indices = pd.Series(movie_merge.index, index=movie_merge['title'])\n",
    "\n",
    "    return (indices, cosine_sim, titles)"
   ]
  },
  {
   "cell_type": "code",
   "execution_count": 10,
   "metadata": {},
   "outputs": [
    {
     "data": {
      "text/plain": [
       "(title\n",
       " Toy Story                         0\n",
       " Jumanji                           1\n",
       " Grumpier Old Men                  2\n",
       " Waiting to Exhale                 3\n",
       " Father of the Bride Part II       4\n",
       "                                ... \n",
       " The Deadly Mantis              5016\n",
       " Dragonfly                      5017\n",
       " Queen of the Damned            5018\n",
       " Big Bad Love                   5019\n",
       " Green Dragon                   5020\n",
       " Length: 5021, dtype: int64,\n",
       " array([[1.        , 0.02567481, 0.03005565, ..., 0.        , 0.03005565,\n",
       "         0.        ],\n",
       "        [0.02567481, 1.        , 0.        , ..., 0.02507061, 0.        ,\n",
       "         0.0328798 ],\n",
       "        [0.03005565, 0.        , 1.        , ..., 0.        , 0.03703704,\n",
       "         0.        ],\n",
       "        ...,\n",
       "        [0.        , 0.02507061, 0.        , ..., 1.        , 0.02934836,\n",
       "         0.03049971],\n",
       "        [0.03005565, 0.        , 0.03703704, ..., 0.02934836, 1.        ,\n",
       "         0.03849002],\n",
       "        [0.        , 0.0328798 , 0.        , ..., 0.03049971, 0.03849002,\n",
       "         1.        ]]),\n",
       " 0                         Toy Story\n",
       " 1                           Jumanji\n",
       " 2                  Grumpier Old Men\n",
       " 3                 Waiting to Exhale\n",
       " 4       Father of the Bride Part II\n",
       "                    ...             \n",
       " 5016              The Deadly Mantis\n",
       " 5017                      Dragonfly\n",
       " 5018            Queen of the Damned\n",
       " 5019                   Big Bad Love\n",
       " 5020                   Green Dragon\n",
       " Name: title, Length: 5021, dtype: object)"
      ]
     },
     "execution_count": 10,
     "metadata": {},
     "output_type": "execute_result"
    }
   ],
   "source": [
    "discover_movie(df)"
   ]
  },
  {
   "cell_type": "code",
   "execution_count": null,
   "metadata": {},
   "outputs": [],
   "source": []
  }
 ],
 "metadata": {
  "kernelspec": {
   "display_name": "Python 3",
   "language": "python",
   "name": "python3"
  },
  "language_info": {
   "codemirror_mode": {
    "name": "ipython",
    "version": 3
   },
   "file_extension": ".py",
   "mimetype": "text/x-python",
   "name": "python",
   "nbconvert_exporter": "python",
   "pygments_lexer": "ipython3",
   "version": "3.6.8"
  }
 },
 "nbformat": 4,
 "nbformat_minor": 2
}
